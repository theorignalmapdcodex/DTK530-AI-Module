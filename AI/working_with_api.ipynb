{
 "cells": [
  {
   "cell_type": "markdown",
   "metadata": {},
   "source": [
    "# Working with APIs\n",
    "\n",
    "The example includes using Gemini (make sure ti get your gemini API key)"
   ]
  },
  {
   "cell_type": "code",
   "execution_count": 3,
   "metadata": {},
   "outputs": [],
   "source": [
    "import google.generativeai as genai\n",
    "import os\n",
    "import warnings\n",
    "warnings.filterwarnings(\"ignore\")"
   ]
  },
  {
   "cell_type": "code",
   "execution_count": 4,
   "metadata": {},
   "outputs": [],
   "source": [
    "genai.configure(api_key=os.environ[\"GEMINI_API_KEY\"])"
   ]
  },
  {
   "cell_type": "code",
   "execution_count": 5,
   "metadata": {},
   "outputs": [
    {
     "name": "stdout",
     "output_type": "stream",
     "text": [
      "Elara clutched the worn leather straps of the backpack, its faded green almost swallowed by the swirling dust of the desert.  It wasn't just any backpack; it was Nana Elara's, passed down through generations of her family, whispered to hold a touch of magic.  Elara, a spirited desert nomad, had scoffed at the stories until now. Now, stranded after a sandstorm swallowed her caravan, the stories felt less like folklore and more like desperate hope.\n",
      "\n",
      "Thirst gnawed at her throat, the sun a merciless eye in the brassy sky.  She slumped against a dune, the backpack heavy on her back.  She unzipped the main compartment, expecting the usual – a cracked water skin, a half-eaten dates pouch.  Instead, nestled amongst the familiar items, was a single, perfectly ripe mango.  It shimmered with an unnatural, inner light.\n",
      "\n",
      "Elara stared, her heart leaping.  She cautiously took a bite. The juice was cool and sweet, a symphony of flavor that chased away the desert's harshness.  As she ate, a wave of energy washed over her, invigorating, renewing.  The mango was gone, but its revitalizing effect lingered.\n",
      "\n",
      "Emboldened, Elara delved deeper.  She found a small pouch she'd never seen before, sewn into the lining. Inside were several smooth, grey stones.  She pulled one out.  As she held it, the stone pulsed with a faint warmth, and a tiny spring of cool water erupted from the parched sand beside her.  It wasn't much, but it was enough.\n",
      "\n",
      "Over the next few days, the backpack's magic revealed itself in small, life-saving ways.  A tattered map materialized within, leading her towards an oasis she hadn't known existed.  A pouch of dried meat appeared when hunger threatened.  Once, as a venomous snake slithered towards her, a small, protective shield of shimmering light emanated from the backpack, deflecting the creature.\n",
      "\n",
      "The magic wasn't boundless, though.  Elara learned that the backpack responded to her needs, not her desires.  It wouldn't conjure riches or power, but it would provide sustenance and protection, always just enough to keep her going.\n",
      "\n",
      "Finally, after days of arduous travel, Elara reached the oasis, a vibrant jewel in the harsh landscape.  She collapsed beneath the shade of a date palm, the backpack resting beside her.  As she looked at it, a deep understanding settled within her.  The magic wasn't about grand feats or limitless power; it was about resilience, resourcefulness, and the enduring strength of family.  The backpack wasn't a source of unlimited magic, but a tangible reminder of her heritage, a whispering promise that even in the harshest deserts, hope, and a little bit of magic, could always be found.  And with that, Elara knew she would continue the journey, not with a magical guarantee, but with a renewed spirit, carrying her Nana's legacy – and her magic backpack – with her.\n",
      "\n"
     ]
    }
   ],
   "source": [
    "model = genai.GenerativeModel(\"gemini-1.5-flash\")\n",
    "response = model.generate_content(\"Write a story about a magic backpack.\")\n",
    "print(response.text)"
   ]
  }
 ],
 "metadata": {
  "kernelspec": {
   "display_name": "env",
   "language": "python",
   "name": "python3"
  },
  "language_info": {
   "codemirror_mode": {
    "name": "ipython",
    "version": 3
   },
   "file_extension": ".py",
   "mimetype": "text/x-python",
   "name": "python",
   "nbconvert_exporter": "python",
   "pygments_lexer": "ipython3",
   "version": "3.9.6"
  }
 },
 "nbformat": 4,
 "nbformat_minor": 2
}
