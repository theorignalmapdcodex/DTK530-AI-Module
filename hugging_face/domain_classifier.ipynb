{
 "cells": [
  {
   "cell_type": "markdown",
   "metadata": {},
   "source": [
    "# Example of using Model from Hugging Face\n",
    "\n",
    "Link: https://huggingface.co/nvidia/domain-classifier\n",
    "\n",
    "Make sure you pip install them to your env before procedding with the code"
   ]
  },
  {
   "cell_type": "code",
   "execution_count": 1,
   "metadata": {},
   "outputs": [
    {
     "name": "stderr",
     "output_type": "stream",
     "text": [
      "/Users/ritutoshniwal/Code/AI_module/env/lib/python3.9/site-packages/urllib3/__init__.py:35: NotOpenSSLWarning: urllib3 v2 only supports OpenSSL 1.1.1+, currently the 'ssl' module is compiled with 'LibreSSL 2.8.3'. See: https://github.com/urllib3/urllib3/issues/3020\n",
      "  warnings.warn(\n",
      "/Users/ritutoshniwal/Code/AI_module/env/lib/python3.9/site-packages/tqdm/auto.py:21: TqdmWarning: IProgress not found. Please update jupyter and ipywidgets. See https://ipywidgets.readthedocs.io/en/stable/user_install.html\n",
      "  from .autonotebook import tqdm as notebook_tqdm\n"
     ]
    }
   ],
   "source": [
    "# Importing the required libraries\n",
    "import torch\n",
    "from torch import nn\n",
    "from transformers import AutoModel, AutoTokenizer, AutoConfig\n",
    "from huggingface_hub import PyTorchModelHubMixin\n",
    "import warnings\n",
    "ignore_warnings = True"
   ]
  },
  {
   "cell_type": "code",
   "execution_count": 2,
   "metadata": {},
   "outputs": [],
   "source": [
    "# Custom model class that inherits from nn.Module and PyTorchModelHubMixin\n",
    "class CustomModel(nn.Module, PyTorchModelHubMixin):\n",
    "    def __init__(self, config):\n",
    "        super(CustomModel, self).__init__()\n",
    "        self.model = AutoModel.from_pretrained(config['base_model'])\n",
    "        self.dropout = nn.Dropout(config['fc_dropout'])\n",
    "        self.fc = nn.Linear(self.model.config.hidden_size, len(config['id2label']))\n",
    "\n",
    "    def forward(self, input_ids, attention_mask):\n",
    "        features = self.model(input_ids=input_ids, attention_mask=attention_mask).last_hidden_state\n",
    "        dropped = self.dropout(features)\n",
    "        outputs = self.fc(dropped)\n",
    "        return torch.softmax(outputs[:, 0, :], dim=1)"
   ]
  },
  {
   "cell_type": "code",
   "execution_count": 3,
   "metadata": {},
   "outputs": [],
   "source": [
    "# Setup configuration and model\n",
    "config = AutoConfig.from_pretrained(\"nvidia/domain-classifier\")\n",
    "tokenizer = AutoTokenizer.from_pretrained(\"nvidia/domain-classifier\")\n",
    "model = CustomModel.from_pretrained(\"nvidia/domain-classifier\")"
   ]
  },
  {
   "cell_type": "code",
   "execution_count": 4,
   "metadata": {},
   "outputs": [],
   "source": [
    "# Prepare and process inputs for the model\n",
    "text_samples = [\n",
    "    \"The content of this magazine is intended for mature audiences and covers topics related to relationships and adult lifestyles.\",\n",
    "    \"The latest blockbuster movie has taken the box office by storm, showcasing incredible special effects and a gripping storyline.\",\n",
    "    \"The new electric car model boasts an impressive range of 350 miles on a single charge and features cutting-edge autonomous driving technology.\",\n",
    "    \"This skincare routine includes natural products that help rejuvenate your skin and maintain a healthy glow.\",\n",
    "    \"The novel, set in a dystopian future, explores themes of freedom and control, capturing the reader's imagination with its vivid storytelling.\",\n",
    "    \"The manufacturing sector is experiencing a surge in automation, leading to increased efficiency and reduced operational costs.\",\n",
    "    \"The latest smartphone features a high-resolution display, powerful processor, and an advanced camera system.\",\n",
    "    \"Investors are advised to diversify their portfolios to mitigate risks associated with market volatility.\",\n",
    "    \"This recipe for homemade pasta combines fresh ingredients to create a delicious and hearty meal.\",\n",
    "    \"The new multiplayer online game has captivated players with its immersive world and challenging quests.\"\n",
    "]\n",
    "inputs = tokenizer(text_samples, return_tensors=\"pt\", padding=\"longest\", truncation=True)\n",
    "outputs = model(inputs['input_ids'], inputs['attention_mask'])"
   ]
  },
  {
   "cell_type": "code",
   "execution_count": 5,
   "metadata": {},
   "outputs": [
    {
     "name": "stdout",
     "output_type": "stream",
     "text": [
      "['People_and_Society', 'Arts_and_Entertainment', 'Autos_and_Vehicles', 'Beauty_and_Fitness', 'Books_and_Literature', 'Business_and_Industrial', 'Internet_and_Telecom', 'Finance', 'Food_and_Drink', 'Games']\n"
     ]
    }
   ],
   "source": [
    "# Get the predicted classes and convert them to domain labels\n",
    "predicted_classes = torch.argmax(outputs, dim=1)\n",
    "predicted_domains = [config.id2label[class_idx.item()] for class_idx in predicted_classes.cpu().numpy()]\n",
    "print(predicted_domains)"
   ]
  },
  {
   "cell_type": "code",
   "execution_count": 6,
   "metadata": {},
   "outputs": [
    {
     "name": "stdout",
     "output_type": "stream",
     "text": [
      "Text: The content of this magazine is intended for mature audiences and covers topics related to relationships and adult lifestyles.\n",
      "Predicted Domain: People_and_Society\n",
      "\n",
      "Text: The latest blockbuster movie has taken the box office by storm, showcasing incredible special effects and a gripping storyline.\n",
      "Predicted Domain: Arts_and_Entertainment\n",
      "\n",
      "Text: The new electric car model boasts an impressive range of 350 miles on a single charge and features cutting-edge autonomous driving technology.\n",
      "Predicted Domain: Autos_and_Vehicles\n",
      "\n",
      "Text: This skincare routine includes natural products that help rejuvenate your skin and maintain a healthy glow.\n",
      "Predicted Domain: Beauty_and_Fitness\n",
      "\n",
      "Text: The novel, set in a dystopian future, explores themes of freedom and control, capturing the reader's imagination with its vivid storytelling.\n",
      "Predicted Domain: Books_and_Literature\n",
      "\n",
      "Text: The manufacturing sector is experiencing a surge in automation, leading to increased efficiency and reduced operational costs.\n",
      "Predicted Domain: Business_and_Industrial\n",
      "\n",
      "Text: The latest smartphone features a high-resolution display, powerful processor, and an advanced camera system.\n",
      "Predicted Domain: Internet_and_Telecom\n",
      "\n",
      "Text: Investors are advised to diversify their portfolios to mitigate risks associated with market volatility.\n",
      "Predicted Domain: Finance\n",
      "\n",
      "Text: This recipe for homemade pasta combines fresh ingredients to create a delicious and hearty meal.\n",
      "Predicted Domain: Food_and_Drink\n",
      "\n",
      "Text: The new multiplayer online game has captivated players with its immersive world and challenging quests.\n",
      "Predicted Domain: Games\n",
      "\n"
     ]
    }
   ],
   "source": [
    "#printing the input text and the predicted domain just for reference\n",
    "for text, domain in zip(text_samples, predicted_domains):\n",
    "    print(f\"Text: {text}\")\n",
    "    print(f\"Predicted Domain: {domain}\")\n",
    "    print()"
   ]
  }
 ],
 "metadata": {
  "kernelspec": {
   "display_name": "env",
   "language": "python",
   "name": "python3"
  },
  "language_info": {
   "codemirror_mode": {
    "name": "ipython",
    "version": 3
   },
   "file_extension": ".py",
   "mimetype": "text/x-python",
   "name": "python",
   "nbconvert_exporter": "python",
   "pygments_lexer": "ipython3",
   "version": "3.9.6"
  }
 },
 "nbformat": 4,
 "nbformat_minor": 2
}
